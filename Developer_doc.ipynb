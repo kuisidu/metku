{
 "cells": [
  {
   "cell_type": "markdown",
   "metadata": {},
   "source": [
    "# Dokumentaatio Frame2D kehittäjille"
   ]
  },
  {
   "cell_type": "markdown",
   "metadata": {},
   "source": [
    "## Frame2D\n",
    "### Idea:\n",
    "Luokan pääideana on toimia rajapintaluokkana, josta tietoa on helppo saada ulos ja jonka kautta kehää on helppo muokata. Tätä rajapintaa käyttäen, käyttäjät voisivat halutessaan luoda tämän päälle graafisen käyttöliittymän, josta ajaa Frame2D:tä. \n",
    "\n",
    "Kehän ja kuvioiden piirtäminen on toteutettu debuggausta/ tulosten varmistamista varten.\n",
    "\n",
    "\n",
    "### Tiedossa olevia ongelmakohtia:\n",
    "* solmukoordinaattien laskenta\n",
    "    - numeerinen tarkkuus\n",
    "\n",
    "\n",
    "### Metodien toiminta\n",
    "\n",
    "* __Add__:\n",
    "    - \n",
    "    - Lisättäessä FrameMember -luokan olio, metodi laskee solmukoordinaattien sijainnit elementtien lukumäärän perusteella (calc_nodal_coordinates -funktio) ja tarkistaa jos osa risteää toisen osan kanssa ja lisää tähän kohtaan solmukoordinaatin, joka tallennetaan molempien osien added_coordinates listaan\n",
    "\n",
    "\n",
    "\n",
    "### TODO:\n",
    "* Tiedon vieminen eri tiedostomuotoihin(.xlsx, .csv, .ifc)\n",
    "* generate -metodit poistaminen ja elementtien ja solmujen luonti add - metodissa\n",
    "    - kehään voisi helpoti lisätä ja poistaa rakenneosia\n",
    "    "
   ]
  },
  {
   "cell_type": "markdown",
   "metadata": {},
   "source": [
    "## FrameMember\n",
    "### Idea:\n",
    "FrameMember -class is supposed to be a base class that can be inherited to create different member types e.g. Concrete members, Steel members\n",
    "\n",
    "Currently there are many assumptions in the class that the meme"
   ]
  },
  {
   "cell_type": "markdown",
   "metadata": {},
   "source": []
  },
  {
   "cell_type": "markdown",
   "metadata": {},
   "source": [
    "### Python Traps\n",
    "\n",
    "Python has many \"traps\" that might brake the code and are very hard to find.\n",
    "\n",
    "One example is 'copying' lists. Everything is an object in python, so when creating a new variable with previously created list, it doesn't create copy of that list, insted it add's a new pointer to that list. And then if you change the values in the list if affects both variables.\n"
   ]
  },
  {
   "cell_type": "code",
   "execution_count": 27,
   "metadata": {},
   "outputs": [
    {
     "name": "stdout",
     "output_type": "stream",
     "text": [
      "WRONG: \n",
      "[3, 2]\n",
      "[3, 2]\n",
      "CORRECT: \n",
      "[1, 2, 3]\n",
      "[3, 2]\n"
     ]
    }
   ],
   "source": [
    "# WRONG WAY\n",
    "print(\"WRONG: \")\n",
    "a = [1, 2, 3]\n",
    "b = a\n",
    "b[0] = 3\n",
    "b.pop()\n",
    "print(a)\n",
    "print(b)\n",
    "\n",
    "# CORRECT WAY\n",
    "print(\"CORRECT: \")\n",
    "a = [1, 2, 3]\n",
    "b = a.copy()\n",
    "b[0] = 3\n",
    "b.pop()\n",
    "print(a)\n",
    "print(b)"
   ]
  },
  {
   "cell_type": "markdown",
   "metadata": {},
   "source": [
    "Another example is default keyword arguments (kwargs) in functions\n",
    "\n",
    "When there's a kwarg which default value is empty list (or another mutable object), it doesn't create new list every time the function is called, instead it append's new value to the same list."
   ]
  },
  {
   "cell_type": "code",
   "execution_count": 24,
   "metadata": {},
   "outputs": [
    {
     "name": "stdout",
     "output_type": "stream",
     "text": [
      "[1]\n",
      "[1, 2]\n",
      "[1, 2, 3]\n",
      "[1, 2, 3, 4]\n"
     ]
    }
   ],
   "source": [
    "def example(val, lst=[]):\n",
    "    lst.append(val)\n",
    "    return lst\n",
    "\n",
    "print(example(1))\n",
    "print(example(2))\n",
    "print(example(3))\n",
    "print(example(4))"
   ]
  },
  {
   "cell_type": "code",
   "execution_count": null,
   "metadata": {},
   "outputs": [],
   "source": []
  }
 ],
 "metadata": {
  "kernelspec": {
   "display_name": "Python 3",
   "language": "python",
   "name": "python3"
  },
  "language_info": {
   "codemirror_mode": {
    "name": "ipython",
    "version": 3
   },
   "file_extension": ".py",
   "mimetype": "text/x-python",
   "name": "python",
   "nbconvert_exporter": "python",
   "pygments_lexer": "ipython3",
   "version": "3.6.4"
  }
 },
 "nbformat": 4,
 "nbformat_minor": 2
}
