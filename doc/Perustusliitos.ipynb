{
 "cells": [
  {
   "cell_type": "markdown",
   "id": "00a58aad",
   "metadata": {},
   "source": [
    "# Pilarin perustusliitos\n",
    "\n",
    "Tässä lasketaan H-profiilisen pilarin perustusliitoksen kestävyys erityisesti RAK.RS.500 Teräsrakenteet -kurssin harjoitustyötä silmällä pitäen."
   ]
  },
  {
   "cell_type": "code",
   "execution_count": 5,
   "id": "a16884a5",
   "metadata": {},
   "outputs": [
    {
     "ename": "NameError",
     "evalue": "name 'c' is not defined",
     "output_type": "error",
     "traceback": [
      "\u001b[1;31m---------------------------------------------------------------------------\u001b[0m",
      "\u001b[1;31mNameError\u001b[0m                                 Traceback (most recent call last)",
      "\u001b[1;32m~\\AppData\\Local\\Temp\\ipykernel_3936\\1508814954.py\u001b[0m in \u001b[0;36m<module>\u001b[1;34m\u001b[0m\n\u001b[0;32m     29\u001b[0m                        \u001b[0manchor_bolts\u001b[0m \u001b[1;33m=\u001b[0m \u001b[0mbolts\u001b[0m\u001b[1;33m,\u001b[0m\u001b[0;31m\\\u001b[0m\u001b[1;33m\u001b[0m\u001b[1;33m\u001b[0m\u001b[0m\n\u001b[0;32m     30\u001b[0m                        \u001b[0mbolt_p\u001b[0m \u001b[1;33m=\u001b[0m \u001b[0mb\u001b[0m\u001b[1;33m,\u001b[0m\u001b[0;31m\\\u001b[0m\u001b[1;33m\u001b[0m\u001b[1;33m\u001b[0m\u001b[0m\n\u001b[1;32m---> 31\u001b[1;33m                        concrete=concrete)\n\u001b[0m\u001b[0;32m     32\u001b[0m \u001b[1;33m\u001b[0m\u001b[0m\n\u001b[0;32m     33\u001b[0m \u001b[0mjoint\u001b[0m\u001b[1;33m.\u001b[0m\u001b[0mdraw\u001b[0m\u001b[1;33m(\u001b[0m\u001b[1;33m)\u001b[0m\u001b[1;33m\u001b[0m\u001b[1;33m\u001b[0m\u001b[0m\n",
      "\u001b[1;32m~\\Data\\GitHub\\metku\\metku\\structures\\steel\\column_base_joint.py\u001b[0m in \u001b[0;36m__init__\u001b[1;34m(self, column_profile, plate_edges, plate_thickness, anchor_bolts, bolt_x, bolt_p, concrete)\u001b[0m\n\u001b[0;32m     88\u001b[0m         \u001b[0mh\u001b[0m \u001b[1;33m=\u001b[0m \u001b[0mcolumn_profile\u001b[0m\u001b[1;33m.\u001b[0m\u001b[0mh\u001b[0m\u001b[1;33m\u001b[0m\u001b[1;33m\u001b[0m\u001b[0m\n\u001b[0;32m     89\u001b[0m         \u001b[0mb\u001b[0m \u001b[1;33m=\u001b[0m \u001b[0mcolumn_profile\u001b[0m\u001b[1;33m.\u001b[0m\u001b[0mb\u001b[0m\u001b[1;33m\u001b[0m\u001b[1;33m\u001b[0m\u001b[0m\n\u001b[1;32m---> 90\u001b[1;33m         \u001b[0mhp\u001b[0m \u001b[1;33m=\u001b[0m \u001b[0mh\u001b[0m \u001b[1;33m+\u001b[0m \u001b[0mself\u001b[0m\u001b[1;33m.\u001b[0m\u001b[0m_c\u001b[0m\u001b[1;33m[\u001b[0m\u001b[1;36m0\u001b[0m\u001b[1;33m]\u001b[0m \u001b[1;33m+\u001b[0m \u001b[0mself\u001b[0m\u001b[1;33m.\u001b[0m\u001b[0m_c\u001b[0m\u001b[1;33m[\u001b[0m\u001b[1;36m1\u001b[0m\u001b[1;33m]\u001b[0m\u001b[1;33m\u001b[0m\u001b[1;33m\u001b[0m\u001b[0m\n\u001b[0m\u001b[0;32m     91\u001b[0m         \u001b[0mbp\u001b[0m \u001b[1;33m=\u001b[0m \u001b[0mb\u001b[0m \u001b[1;33m+\u001b[0m \u001b[0mself\u001b[0m\u001b[1;33m.\u001b[0m\u001b[0m_c\u001b[0m\u001b[1;33m[\u001b[0m\u001b[1;36m2\u001b[0m\u001b[1;33m]\u001b[0m \u001b[1;33m+\u001b[0m \u001b[0mself\u001b[0m\u001b[1;33m.\u001b[0m\u001b[0m_c\u001b[0m\u001b[1;33m[\u001b[0m\u001b[1;36m3\u001b[0m\u001b[1;33m]\u001b[0m\u001b[1;33m\u001b[0m\u001b[1;33m\u001b[0m\u001b[0m\n\u001b[0;32m     92\u001b[0m         \u001b[0mbase_plate\u001b[0m \u001b[1;33m=\u001b[0m \u001b[0mRectPlate\u001b[0m\u001b[1;33m(\u001b[0m\u001b[0mbp\u001b[0m\u001b[1;33m,\u001b[0m\u001b[0mhp\u001b[0m\u001b[1;33m,\u001b[0m\u001b[0mplate_thickness\u001b[0m\u001b[1;33m,\u001b[0m\u001b[0mmaterial\u001b[0m\u001b[1;33m=\u001b[0m\u001b[1;34m\"S355\"\u001b[0m\u001b[1;33m)\u001b[0m\u001b[1;33m\u001b[0m\u001b[1;33m\u001b[0m\u001b[0m\n",
      "\u001b[1;31mNameError\u001b[0m: name 'c' is not defined"
     ]
    }
   ],
   "source": [
    "from metku.structures.steel.column_base_joint import ColumnBase, AnchorBolt, HPM_L\n",
    "from metku.sections.steel.ISection import HEA\n",
    "\n",
    "\n",
    "col = HEA(260)\n",
    "\n",
    "# c[0] .. pohjalevyn reunan etäisyys pilarin vasemmanpuoleisesta laipasta\n",
    "# c[1] .. pohjalevyn reunan etäisyys pilarin oikeanpuoleisesta laipasta\n",
    "# c[2] .. pohjalevyn yläreunan etäisyys pilarin laipasta\n",
    "# c[3] .. pohjalevyn alareunan etäisyys pilarin laipasta\n",
    "c = [130.0,130.0,40.0,40.0]\n",
    "\n",
    "# Pohjalevyn paksuus\n",
    "tp = 30\n",
    "\n",
    "# Perustusruuvit\n",
    "d = 30\n",
    "d0 = 33\n",
    "bolts = AnchorBolt(HPM_L[d])\n",
    "\n",
    "# Perustusruuvien keskiöetäisyys\n",
    "b = 220\n",
    "\n",
    "# Betoni\n",
    "concrete = \"C30/C37\"\n",
    "\n",
    "joint = ColumnBase(col,plate_edges = c,\\\n",
    "                       plate_thickness = tp,\\\n",
    "                       anchor_bolts = bolts,\\\n",
    "                       bolt_p = b,\\\n",
    "                       concrete=concrete)\n",
    "\n",
    "joint.draw()"
   ]
  },
  {
   "cell_type": "code",
   "execution_count": null,
   "id": "1cdcba01",
   "metadata": {},
   "outputs": [],
   "source": []
  },
  {
   "cell_type": "code",
   "execution_count": null,
   "id": "25a4dc46",
   "metadata": {},
   "outputs": [],
   "source": []
  }
 ],
 "metadata": {
  "kernelspec": {
   "display_name": "Python 3 (ipykernel)",
   "language": "python",
   "name": "python3"
  },
  "language_info": {
   "codemirror_mode": {
    "name": "ipython",
    "version": 3
   },
   "file_extension": ".py",
   "mimetype": "text/x-python",
   "name": "python",
   "nbconvert_exporter": "python",
   "pygments_lexer": "ipython3",
   "version": "3.7.9"
  }
 },
 "nbformat": 4,
 "nbformat_minor": 5
}
