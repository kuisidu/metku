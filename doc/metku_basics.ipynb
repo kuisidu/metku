{
 "cells": [
  {
   "cell_type": "markdown",
   "id": "79b71026",
   "metadata": {},
   "source": [
    "# Basics of metku\n",
    "\n",
    "This tutorial discusses the basic use of the metku package."
   ]
  },
  {
   "cell_type": "markdown",
   "id": "53d58de4",
   "metadata": {},
   "source": [
    "# Structure of metku\n",
    "\n",
    "metku is a modular package that includes the following features\n",
    "* Design of steel cross-sections and members according to the Eurocode (eurocodes, sections, structures)\n",
    "* Finite element analysis of trusses and frames (framefem)\n",
    "* Tools for creating truss and frame structures (raami)\n",
    "* Tools for defining and solving structural optimization problems (optimization)\n"
   ]
  },
  {
   "cell_type": "markdown",
   "id": "988d854f",
   "metadata": {},
   "source": [
    "# Creating a steel member\n",
    "metku/structures/steel/steel_member.py\n",
    "metku/sections/steel/\n",
    "\n",
    "Defining a steel member requires a cross-section, length. Additionally, the buckling length reduction factor with respect to each principal axis can be provided.\n",
    "\n",
    "The cross-section is a SteelSection type object. This class includes features common to all steel sections. Particular section types are subclasses of SteelSection. For example, to define a rectangular hollow section steel profile RHS 150x120x6.0 of S355 steel, we write"
   ]
  },
  {
   "cell_type": "code",
   "execution_count": 3,
   "id": "f579e743",
   "metadata": {},
   "outputs": [
    {
     "data": {
      "image/png": "[encoded data removed]",
      "text/plain": [
       "<Figure size 640x480 with 1 Axes>"
      ]
     },
     "metadata": {},
     "output_type": "display_data"
    }
   ],
   "source": [
    "from metku.sections.steel.RHS import RHS\n",
    "\n",
    "s = RHS(150,120,6.0)\n",
    "\n",
    "s.draw()"
   ]
  },
  {
   "cell_type": "markdown",
   "id": "e0c1cde1",
   "metadata": {},
   "source": [
    "The methods of SteelSection class include resistance evaluations, cross-section classification, etc. Most of these methods are self-explanatory. For example, to evaluate the axial force resistance of a the RHS profile defined above, we write"
   ]
  },
  {
   "cell_type": "code",
   "execution_count": 4,
   "id": "944daf35",
   "metadata": {},
   "outputs": [
    {
     "data": {
      "text/plain": [
       "1066168.6623386329"
      ]
     },
     "execution_count": 4,
     "metadata": {},
     "output_type": "execute_result"
    }
   ],
   "source": [
    "s.NRd"
   ]
  },
  {
   "cell_type": "markdown",
   "id": "cd7e47dd",
   "metadata": {},
   "source": [
    "By default, the units are (N,mm). Allowing other units is a work in progress."
   ]
  },
  {
   "cell_type": "markdown",
   "id": "688b4748",
   "metadata": {},
   "source": [
    "Internal forces in a cross-section are given in the attributes 'Ned' (axial force), 'Med' (bending moment), 'Ved' (shear force), and 'Ted' (torque). Note that bending moment and shear force are set up as lists, because there can be internal forces with respect to two axes.\n",
    "\n",
    "Med[0] = bending moment with respect to the major axis \n",
    "Med[1] = bending moment with respect to the minor axis \n",
    "\n",
    "Ved[0] = shear force in the horitonal direction\n",
    "Ved[1] = shear force in the vertical direction\n",
    "\n",
    "The attributes for internal forces can be accessed directly:"
   ]
  },
  {
   "cell_type": "code",
   "execution_count": 6,
   "id": "5fc92770",
   "metadata": {},
   "outputs": [],
   "source": [
    "s.Ned = -100e3 # 100 kN compression force\n",
    "s.Med[0] = 20e6 # 20 kNm bending moment with respect to the horizontal axis"
   ]
  },
  {
   "cell_type": "markdown",
   "id": "06d0ac39",
   "metadata": {},
   "source": [
    "Resistance of a cross-section can be evaluated by the method\n",
    "\n",
    "section_resistance(self, axis='y', return_list=True, verb=False)\n",
    "\n",
    "For example"
   ]
  },
  {
   "cell_type": "code",
   "execution_count": 9,
   "id": "d2794c50",
   "metadata": {},
   "outputs": [
    {
     "name": "stdout",
     "output_type": "stream",
     "text": [
      "Cross-section design: RHS 150X120X6.0 S355.0\n",
      "NEd = -100.00 kN; NRd = 1066.17 kN => UN = 0.09\n",
      "VEd = 0.00 kN; VRd = 341.97 kN => UV = 0.00\n",
      "MEd = 20.00 kNm; MRd = 54.66 kNm => UM = 0.37\n",
      "[0.09379379035644395, 0.0, 0.365918325269656, 0.365918325269656]\n"
     ]
    }
   ],
   "source": [
    "res = s.section_resistance(verb=True)\n",
    "\n",
    "print(res)"
   ]
  },
  {
   "cell_type": "markdown",
   "id": "44961fa1",
   "metadata": {},
   "source": [
    "When \"return_list = True\", the output of 'section_resistance' is a list of utilization ratios with respect to the different cross-section resistance checks, against individual internal forces and their interaction."
   ]
  },
  {
   "cell_type": "markdown",
   "id": "ce241050",
   "metadata": {},
   "source": [
    "To create a 6m long steel member with RHS 150x120x6.0, we write "
   ]
  },
  {
   "cell_type": "code",
   "execution_count": 11,
   "id": "74432b14",
   "metadata": {},
   "outputs": [
    {
     "name": "stdout",
     "output_type": "stream",
     "text": [
      "Weight of the member w = 141.46 kg\n"
     ]
    }
   ],
   "source": [
    "from metku.structures.steel.steel_member import SteelMember\n",
    "\n",
    "L = 6000\n",
    "mem = SteelMember(s,L)\n",
    "\n",
    "w = mem.weight()\n",
    "print(f'Weight of the member w = {w:4.2f} kg')"
   ]
  },
  {
   "cell_type": "markdown",
   "id": "f392aefd",
   "metadata": {},
   "source": [
    "To introduce internal force on a steel member, different sections are defined. This enables variation of internal forces along the member. New sections are defined by the 'add_section' method:\n",
    "\n",
    "def add_section(self, ned=0.0, myed=0.0, mzed=0.0, vyed=0.0, vzed=0.0,\n",
    "                    ted=0.0, loc=0.0):\n",
    "\n",
    "y axis is the horizontal axis and z axis is the vertical axis.\n",
    "\n",
    "The location of the section along the member is given by the local coordinate 'loc', which takes values between 0.0 and 1.0. "
   ]
  },
  {
   "cell_type": "code",
   "execution_count": null,
   "id": "848e0057",
   "metadata": {},
   "outputs": [],
   "source": [
    "# These commands define two sections, at the end and at mid-span of the member.\n",
    "# Both section have an axial force of 100 kN (compression)\n",
    "mem.add_section(ned=-100e3,vzed=200e3,loc=0.0)\n",
    "mem.add_section(ned=-100e3,myed=60e6,loc=0.5)"
   ]
  }
 ],
 "metadata": {
  "kernelspec": {
   "display_name": "Python 3 (ipykernel)",
   "language": "python",
   "name": "python3"
  },
  "language_info": {
   "codemirror_mode": {
    "name": "ipython",
    "version": 3
   },
   "file_extension": ".py",
   "mimetype": "text/x-python",
   "name": "python",
   "nbconvert_exporter": "python",
   "pygments_lexer": "ipython3",
   "version": "3.11.5"
  }
 },
 "nbformat": 4,
 "nbformat_minor": 5
}
