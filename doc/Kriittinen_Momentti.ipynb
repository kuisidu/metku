{
 "cells": [
  {
   "cell_type": "markdown",
   "id": "c4b89526",
   "metadata": {},
   "source": [
    "# Sauvan kiepahduskestävyyden laskenta EN 1993-1-1 mukaan\n",
    "\n"
   ]
  },
  {
   "cell_type": "code",
   "execution_count": 6,
   "id": "953bfd87",
   "metadata": {},
   "outputs": [],
   "source": [
    "from metku.sections.steel.ISection import HEA, HEB, IPE\n",
    "from metku.structures.steel.steel_member import SteelMember\n",
    "\n",
    "# Sauvan profiili\n",
    "p = HEA(160)\n",
    "\n",
    "# Sauvan pituus [mm]\n",
    "L = 10050\n",
    "\n",
    "mem = SteelMember(p,L)"
   ]
  },
  {
   "cell_type": "markdown",
   "id": "26b9846e",
   "metadata": {},
   "source": [
    "## Kriittisen momentin laskenta\n",
    "\n",
    "Lasketaan seuraavaksi kolmen kertoimen kaavan pohjalta kriittinen momentti"
   ]
  },
  {
   "cell_type": "code",
   "execution_count": 9,
   "id": "6861ed4d",
   "metadata": {
    "scrolled": true
   },
   "outputs": [
    {
     "name": "stdout",
     "output_type": "stream",
     "text": [
      "Critical moment for LT buckling\n",
      "kz = 1.000; kw = 1.000\n",
      "C1 = 3.700; C2 = 0.650\n",
      "Mcr = 236.2271 kNm\n"
     ]
    }
   ],
   "source": [
    "# Momenttikuvioon liittyvät kertoimet\n",
    "#C = [1.12, 0.45, 0.525]\n",
    "C = [3.7, 0.65, 0.525]\n",
    "# Kiepahdustuentaan liittyvät kertoimet\n",
    "# k[0] .. k_z eli tuenta z-akselin suhteen tapahtuvan taivutuksen suhteen\n",
    "# k[1] .. k_w eli tuenta väännössä tapahtuvan poikkileikkauksen vääristymisen suhteen\n",
    "k = [1, 1]\n",
    "\n",
    "# Kuormitukset sijainti\n",
    "za = 0.5*p.h\n",
    "\n",
    "Mcr = mem.mcrit(C,k,za,True)"
   ]
  },
  {
   "cell_type": "code",
   "execution_count": null,
   "id": "7c73ee43",
   "metadata": {},
   "outputs": [],
   "source": []
  }
 ],
 "metadata": {
  "kernelspec": {
   "display_name": "Python 3 (ipykernel)",
   "language": "python",
   "name": "python3"
  },
  "language_info": {
   "codemirror_mode": {
    "name": "ipython",
    "version": 3
   },
   "file_extension": ".py",
   "mimetype": "text/x-python",
   "name": "python",
   "nbconvert_exporter": "python",
   "pygments_lexer": "ipython3",
   "version": "3.7.9"
  }
 },
 "nbformat": 4,
 "nbformat_minor": 5
}
