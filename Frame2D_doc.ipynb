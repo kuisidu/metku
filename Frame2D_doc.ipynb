{
 "cells": [
  {
   "cell_type": "markdown",
   "metadata": {},
   "source": [
    "# Frame2D documentation\n",
    "\n",
    "#### Key points:\n",
    "\n",
    "* Units used are [m], [kN] and [kNm]\n",
    "* Always remember to generate frame before calculation\n",
    "* Members/ loads /supports can't be added after the generation\n",
    "\n",
    "\n",
    "#### Members\n",
    "* SteelBeam(*coordinates*)\n",
    "* Optional arguments:\n",
    "    - profile (string)\n",
    "    - material (string)\n",
    "    - num_elements (int)\n",
    "    - Sj1 (float)\n",
    "    - Sj2 (float)\n",
    "* Most used attributes:\n",
    "    - r -- utilization ratios [N, V, M, N + M, By, Bz, LT]\n",
    "    \n",
    "\n",
    "\n",
    "#### Loads\n",
    "* PointLoad(*coordinate, [Fx, Fy, Mz]*)\n",
    "* LineLoad(*member, [q1, q1], direction*)\n",
    "* Optional arguments:\n",
    "    - load_id (int)\n",
    "    - ltype (string)\n",
    "    - name (string)\n",
    "    - f (float)\n",
    "\n",
    "\n",
    "#### Supports\n",
    "* FixedSupport(*coordinate*)\n",
    "* XHingedSupport(*coordinate*)\n",
    "* YHingedSupport(*coordinate*)\n",
    "* XYHingedSupport(*coordinate*)\n",
    "\n",
    "#### Most used frame methods\n",
    "* add(*item*) -- add item to frame\n",
    "* calculate() -- calculate internal forces\n",
    "* generate() -- generates frame\n",
    "* plot() -- plots frame\n",
    "* bmd(*scale*) -- plots bending moment diagram\n",
    "* plot_deflection(*scale*) -- plots deflected frame\n",
    "* to_robot(*filename, num_frames, s, brace_profile*) -- creates .str -file of the frame\n",
    "\n",
    "\n"
   ]
  },
  {
   "cell_type": "markdown",
   "metadata": {},
   "source": [
    "## Typical workflow\n",
    "\n",
    "This section describes typical usage of the Frame2D module.\n",
    "\n",
    "Frames can be created in two different ways: \n",
    "1. Creating and adding each member seperately (unique frame)\n",
    "2. Creating a simple frame (symmetrical, rule-based frame)\n",
    "\n",
    "\n",
    "\n",
    "Start by importing dependencies."
   ]
  },
  {
   "cell_type": "code",
   "execution_count": 1,
   "metadata": {},
   "outputs": [],
   "source": [
    "import sys\n",
    "# NOTE! This path needs to be changed to your own filepath!\n",
    "sys.path.append('C:\\\\Users\\\\huusk\\\\OneDrive\\\\Tiedostot\\\\GIT\\\\src')\n",
    "from truss2d import Truss2D, TopChord, BottomChord, TrussWeb\n",
    "from frame2d.frame2d import Frame2D, SteelColumn, SteelBeam, FixedSupport, PointLoad, LineLoad"
   ]
  },
  {
   "cell_type": "markdown",
   "metadata": {},
   "source": [
    "Let's create a semi-rigidly supported frame like the one below.\n"
   ]
  },
  {
   "cell_type": "code",
   "execution_count": 2,
   "metadata": {},
   "outputs": [
    {
     "data": {
      "text/html": [
       "<img src=\"https://media.springernature.com/lw785/springer-static/image/art%3A10.1007%2Fs13296-018-0008-z/MediaObjects/13296_2018_8_Fig13_HTML.gif\"/>"
      ],
      "text/plain": [
       "<IPython.core.display.Image object>"
      ]
     },
     "execution_count": 2,
     "metadata": {},
     "output_type": "execute_result"
    }
   ],
   "source": [
    "from IPython.display import Image\n",
    "from IPython.core.display import HTML \n",
    "Image(url= \"https://media.springernature.com/lw785/springer-static/image/art%3A10.1007%2Fs13296-018-0008-z/MediaObjects/13296_2018_8_Fig13_HTML.gif\")"
   ]
  },
  {
   "cell_type": "markdown",
   "metadata": {},
   "source": [
    "### 1. Creating and adding each member seperately\n",
    "\n",
    "Start by creating a Frame2D -instance and beams and columns"
   ]
  },
  {
   "cell_type": "code",
   "execution_count": 3,
   "metadata": {},
   "outputs": [],
   "source": [
    "# Frame2D -instance\n",
    "frame = Frame2D()\n",
    "# Columns' coordinates\n",
    "coords1 = [[0, 0], [0, 4]]\n",
    "coords2 = [[8, 0], [8, 4]]\n",
    "# Beam's coordinates\n",
    "coords3 = [[0, 4], [8, 4]]\n",
    "# Column instances\n",
    "column1 = SteelColumn(coords1, profile=\"HE 240 B\")\n",
    "column2 = SteelColumn(coords2, profile=\"HE 240 B\")\n",
    "# Beam instance\n",
    "beam1 = SteelBeam(coords3, profile=\"IPE 400\")"
   ]
  },
  {
   "cell_type": "markdown",
   "metadata": {},
   "source": [
    "Create loads and supports"
   ]
  },
  {
   "cell_type": "code",
   "execution_count": 4,
   "metadata": {},
   "outputs": [],
   "source": [
    "# Loads' coordinates\n",
    "c1 = [0, 4]\n",
    "c2 = [2, 4]\n",
    "c3 = [6, 4]\n",
    "c4 = [8, 4]\n",
    "# Supports' coordinates\n",
    "c5 = [0, 0]\n",
    "c6 = [8, 0]\n",
    "# Load instances, values are kN's\n",
    "P = -120\n",
    "H = 20\n",
    "HP1 = PointLoad(c1, [H, P, 0])\n",
    "P1 = PointLoad(c2, [0, P, 0])\n",
    "P2 = PointLoad(c3, [0, P, 0])\n",
    "HP2 = PointLoad(c4, [H, P, 0])\n",
    "# Support instances\n",
    "sup1 = FixedSupport(c5)\n",
    "sup2 = FixedSupport(c6)"
   ]
  },
  {
   "cell_type": "markdown",
   "metadata": {},
   "source": [
    "Now we can add members, loads and supports to the frame"
   ]
  },
  {
   "cell_type": "code",
   "execution_count": 5,
   "metadata": {},
   "outputs": [],
   "source": [
    "# Add columns\n",
    "frame.add(column1)\n",
    "frame.add(column2)\n",
    "# Add beam\n",
    "frame.add(beam1)\n",
    "# Add pointloads\n",
    "frame.add(HP1)\n",
    "frame.add(P1)\n",
    "frame.add(P2)\n",
    "frame.add(HP2)\n",
    "# Add supports\n",
    "frame.add(sup1)\n",
    "frame.add(sup2)"
   ]
  },
  {
   "cell_type": "markdown",
   "metadata": {},
   "source": [
    "To create semi-rigid connections between the column and the footing, we need to change column's joint rigidity"
   ]
  },
  {
   "cell_type": "code",
   "execution_count": 6,
   "metadata": {},
   "outputs": [],
   "source": [
    "# Sj1 changes the joint rigidity in member's first coordinate\n",
    "# unit is kNm/rad\n",
    "column1.Sj1 = 20000\n",
    "column2.Sj1 = 20000"
   ]
  },
  {
   "cell_type": "markdown",
   "metadata": {},
   "source": [
    "Now we can generate the frame and calculate the results."
   ]
  },
  {
   "cell_type": "code",
   "execution_count": 7,
   "metadata": {},
   "outputs": [],
   "source": [
    "frame.generate()\n",
    "frame.calculate()"
   ]
  },
  {
   "cell_type": "markdown",
   "metadata": {},
   "source": [
    "Each member has their utilization ratios saved to a list. The utilization ratios are in order [N, V, M, N + M, By, Bz, LT].\n",
    "* N - axial \n",
    "* V - shear \n",
    "* M - moment \n",
    "* NM - axial and moment combined\n",
    "* By - buckling about y\n",
    "* Bz - buckling about z\n",
    "* LT - lateral-torsional buckling\n",
    "\n",
    "We can print each member's utilization ratios by calling attribute .r"
   ]
  },
  {
   "cell_type": "code",
   "execution_count": 8,
   "metadata": {},
   "outputs": [
    {
     "name": "stdout",
     "output_type": "stream",
     "text": [
      "0   [0.062, 0.036, 0.225, 0.225, 0.07, 0.099, 0.276]\n",
      "1   [0.066, 0.095, 0.409, 0.409, 0.075, 0.106, 0.502]\n",
      "2   [0.015, 0.147, 0.33, 0.33, 0.017, 0.118, 1.134]\n"
     ]
    }
   ],
   "source": [
    "for member in frame.members.values():\n",
    "    print(member.mem_id, \" \", [round(r, 3) for r in member.r])"
   ]
  },
  {
   "cell_type": "code",
   "execution_count": 25,
   "metadata": {},
   "outputs": [
    {
     "data": {
      "image/png": "[encoded data removed]",
      "text/plain": [
       "<matplotlib.figure.Figure at 0x22ed088ce80>"
      ]
     },
     "metadata": {},
     "output_type": "display_data"
    }
   ],
   "source": [
    "frame.bmd(10)"
   ]
  },
  {
   "cell_type": "code",
   "execution_count": 37,
   "metadata": {},
   "outputs": [
    {
     "data": {
      "image/png": "[encoded data removed]",
      "text/plain": [
       "<matplotlib.figure.Figure at 0x22ecfef7f60>"
      ]
     },
     "metadata": {},
     "output_type": "display_data"
    }
   ],
   "source": [
    "frame.plot_deflection(20)"
   ]
  },
  {
   "cell_type": "markdown",
   "metadata": {},
   "source": [
    "### 2. Creating frame using simple list\n",
    "\n"
   ]
  },
  {
   "cell_type": "code",
   "execution_count": 49,
   "metadata": {},
   "outputs": [
    {
     "data": {
      "image/png": "[encoded data removed]",
      "text/plain": [
       "<matplotlib.figure.Figure at 0x22ed0894e48>"
      ]
     },
     "metadata": {},
     "output_type": "display_data"
    },
    {
     "ename": "LinAlgError",
     "evalue": "Singular matrix",
     "output_type": "error",
     "traceback": [
      "\u001b[1;31m---------------------------------------------------------------------------\u001b[0m",
      "\u001b[1;31mLinAlgError\u001b[0m                               Traceback (most recent call last)",
      "\u001b[1;32m<ipython-input-49-84ef76215ffd>\u001b[0m in \u001b[0;36m<module>\u001b[1;34m()\u001b[0m\n\u001b[0;32m     31\u001b[0m \u001b[0msimple_frame\u001b[0m\u001b[1;33m.\u001b[0m\u001b[0mf\u001b[0m\u001b[1;33m.\u001b[0m\u001b[0mdraw\u001b[0m\u001b[1;33m(\u001b[0m\u001b[1;33m)\u001b[0m\u001b[1;33m\u001b[0m\u001b[0m\n\u001b[0;32m     32\u001b[0m \u001b[1;31m# Calculate results\u001b[0m\u001b[1;33m\u001b[0m\u001b[1;33m\u001b[0m\u001b[0m\n\u001b[1;32m---> 33\u001b[1;33m \u001b[0msimple_frame\u001b[0m\u001b[1;33m.\u001b[0m\u001b[0mcalculate\u001b[0m\u001b[1;33m(\u001b[0m\u001b[1;33m)\u001b[0m\u001b[1;33m\u001b[0m\u001b[0m\n\u001b[0m",
      "\u001b[1;32m~\\OneDrive\\Tiedostot\\GIT\\src\\frame2d\\frame2d.py\u001b[0m in \u001b[0;36mcalculate\u001b[1;34m(self, load_id)\u001b[0m\n\u001b[0;32m    346\u001b[0m             \u001b[0mself\u001b[0m\u001b[1;33m.\u001b[0m\u001b[0mf\u001b[0m\u001b[1;33m.\u001b[0m\u001b[0mnodal_dofs\u001b[0m\u001b[1;33m(\u001b[0m\u001b[1;33m)\u001b[0m\u001b[1;33m\u001b[0m\u001b[0m\n\u001b[0;32m    347\u001b[0m \u001b[1;33m\u001b[0m\u001b[0m\n\u001b[1;32m--> 348\u001b[1;33m         \u001b[0mself\u001b[0m\u001b[1;33m.\u001b[0m\u001b[0mf\u001b[0m\u001b[1;33m.\u001b[0m\u001b[0mlinear_statics\u001b[0m\u001b[1;33m(\u001b[0m\u001b[1;33m)\u001b[0m\u001b[1;33m\u001b[0m\u001b[0m\n\u001b[0m\u001b[0;32m    349\u001b[0m         \u001b[0mself\u001b[0m\u001b[1;33m.\u001b[0m\u001b[0mcalc_nodal_forces\u001b[0m\u001b[1;33m(\u001b[0m\u001b[1;33m)\u001b[0m\u001b[1;33m\u001b[0m\u001b[0m\n\u001b[0;32m    350\u001b[0m         \u001b[0mself\u001b[0m\u001b[1;33m.\u001b[0m\u001b[0mcalc_nodal_displacements\u001b[0m\u001b[1;33m(\u001b[0m\u001b[1;33m)\u001b[0m\u001b[1;33m\u001b[0m\u001b[0m\n",
      "\u001b[1;32m~\\OneDrive\\Tiedostot\\GIT\\src\\framefem\\framefem.py\u001b[0m in \u001b[0;36mlinear_statics\u001b[1;34m(self, lcase)\u001b[0m\n\u001b[0;32m    378\u001b[0m \u001b[1;33m\u001b[0m\u001b[0m\n\u001b[0;32m    379\u001b[0m         \u001b[1;34m\"\"\" Solve global displacement vector \"\"\"\u001b[0m\u001b[1;33m\u001b[0m\u001b[0m\n\u001b[1;32m--> 380\u001b[1;33m         \u001b[0mu\u001b[0m \u001b[1;33m=\u001b[0m \u001b[0mnp\u001b[0m\u001b[1;33m.\u001b[0m\u001b[0mlinalg\u001b[0m\u001b[1;33m.\u001b[0m\u001b[0msolve\u001b[0m\u001b[1;33m(\u001b[0m\u001b[0mK\u001b[0m\u001b[1;33m,\u001b[0m \u001b[0mp\u001b[0m\u001b[1;33m)\u001b[0m\u001b[1;33m\u001b[0m\u001b[0m\n\u001b[0m\u001b[0;32m    381\u001b[0m         \u001b[1;34m\"\"\" Distribute displacements to nodes \"\"\"\u001b[0m\u001b[1;33m\u001b[0m\u001b[0m\n\u001b[0;32m    382\u001b[0m         \u001b[1;32mfor\u001b[0m \u001b[0mnode\u001b[0m \u001b[1;32min\u001b[0m \u001b[0mself\u001b[0m\u001b[1;33m.\u001b[0m\u001b[0mnodes\u001b[0m\u001b[1;33m:\u001b[0m\u001b[1;33m\u001b[0m\u001b[0m\n",
      "\u001b[1;32mC:\\Program Files (x86)\\Microsoft Visual Studio\\Shared\\Anaconda3_64\\lib\\site-packages\\numpy\\linalg\\linalg.py\u001b[0m in \u001b[0;36msolve\u001b[1;34m(a, b)\u001b[0m\n\u001b[0;32m    388\u001b[0m     \u001b[0msignature\u001b[0m \u001b[1;33m=\u001b[0m \u001b[1;34m'DD->D'\u001b[0m \u001b[1;32mif\u001b[0m \u001b[0misComplexType\u001b[0m\u001b[1;33m(\u001b[0m\u001b[0mt\u001b[0m\u001b[1;33m)\u001b[0m \u001b[1;32melse\u001b[0m \u001b[1;34m'dd->d'\u001b[0m\u001b[1;33m\u001b[0m\u001b[0m\n\u001b[0;32m    389\u001b[0m     \u001b[0mextobj\u001b[0m \u001b[1;33m=\u001b[0m \u001b[0mget_linalg_error_extobj\u001b[0m\u001b[1;33m(\u001b[0m\u001b[0m_raise_linalgerror_singular\u001b[0m\u001b[1;33m)\u001b[0m\u001b[1;33m\u001b[0m\u001b[0m\n\u001b[1;32m--> 390\u001b[1;33m     \u001b[0mr\u001b[0m \u001b[1;33m=\u001b[0m \u001b[0mgufunc\u001b[0m\u001b[1;33m(\u001b[0m\u001b[0ma\u001b[0m\u001b[1;33m,\u001b[0m \u001b[0mb\u001b[0m\u001b[1;33m,\u001b[0m \u001b[0msignature\u001b[0m\u001b[1;33m=\u001b[0m\u001b[0msignature\u001b[0m\u001b[1;33m,\u001b[0m \u001b[0mextobj\u001b[0m\u001b[1;33m=\u001b[0m\u001b[0mextobj\u001b[0m\u001b[1;33m)\u001b[0m\u001b[1;33m\u001b[0m\u001b[0m\n\u001b[0m\u001b[0;32m    391\u001b[0m \u001b[1;33m\u001b[0m\u001b[0m\n\u001b[0;32m    392\u001b[0m     \u001b[1;32mreturn\u001b[0m \u001b[0mwrap\u001b[0m\u001b[1;33m(\u001b[0m\u001b[0mr\u001b[0m\u001b[1;33m.\u001b[0m\u001b[0mastype\u001b[0m\u001b[1;33m(\u001b[0m\u001b[0mresult_t\u001b[0m\u001b[1;33m,\u001b[0m \u001b[0mcopy\u001b[0m\u001b[1;33m=\u001b[0m\u001b[1;32mFalse\u001b[0m\u001b[1;33m)\u001b[0m\u001b[1;33m)\u001b[0m\u001b[1;33m\u001b[0m\u001b[0m\n",
      "\u001b[1;32mC:\\Program Files (x86)\\Microsoft Visual Studio\\Shared\\Anaconda3_64\\lib\\site-packages\\numpy\\linalg\\linalg.py\u001b[0m in \u001b[0;36m_raise_linalgerror_singular\u001b[1;34m(err, flag)\u001b[0m\n\u001b[0;32m     87\u001b[0m \u001b[1;33m\u001b[0m\u001b[0m\n\u001b[0;32m     88\u001b[0m \u001b[1;32mdef\u001b[0m \u001b[0m_raise_linalgerror_singular\u001b[0m\u001b[1;33m(\u001b[0m\u001b[0merr\u001b[0m\u001b[1;33m,\u001b[0m \u001b[0mflag\u001b[0m\u001b[1;33m)\u001b[0m\u001b[1;33m:\u001b[0m\u001b[1;33m\u001b[0m\u001b[0m\n\u001b[1;32m---> 89\u001b[1;33m     \u001b[1;32mraise\u001b[0m \u001b[0mLinAlgError\u001b[0m\u001b[1;33m(\u001b[0m\u001b[1;34m\"Singular matrix\"\u001b[0m\u001b[1;33m)\u001b[0m\u001b[1;33m\u001b[0m\u001b[0m\n\u001b[0m\u001b[0;32m     90\u001b[0m \u001b[1;33m\u001b[0m\u001b[0m\n\u001b[0;32m     91\u001b[0m \u001b[1;32mdef\u001b[0m \u001b[0m_raise_linalgerror_nonposdef\u001b[0m\u001b[1;33m(\u001b[0m\u001b[0merr\u001b[0m\u001b[1;33m,\u001b[0m \u001b[0mflag\u001b[0m\u001b[1;33m)\u001b[0m\u001b[1;33m:\u001b[0m\u001b[1;33m\u001b[0m\u001b[0m\n",
      "\u001b[1;31mLinAlgError\u001b[0m: Singular matrix"
     ]
    }
   ],
   "source": [
    "# simple = [storeys, bays, storey height, bay length]\n",
    "simple = [1, 1, 4, 8]\n",
    "# Create frame\n",
    "simple_frame = None\n",
    "simple_frame = Frame2D(simple=simple, supports='fixed')\n",
    "# Change memebers' profiles\n",
    "for member in simple_frame.members.values():\n",
    "    if member.mtype == 'beam':\n",
    "        member.profile = \"IPE 400\"\n",
    "    else:\n",
    "        member.profile = \"HE 240 B\"\n",
    "# Loads' coordinates\n",
    "c1 = [0, 4]\n",
    "c2 = [2, 4]\n",
    "c3 = [6, 4]\n",
    "c4 = [8, 4]\n",
    "# Load instances, values are kN's\n",
    "P = -120\n",
    "H = 20\n",
    "HP1 = PointLoad(c1, [H, P, 0])\n",
    "P1 = PointLoad(c2, [0, P, 0])\n",
    "P2 = PointLoad(c3, [0, P, 0])\n",
    "HP2 = PointLoad(c4, [H, P, 0])\n",
    "# Add pointloads\n",
    "simple_frame.add(HP1)\n",
    "simple_frame.add(P1)\n",
    "simple_frame.add(P2)\n",
    "simple_frame.add(HP2)\n",
    "# Generate frame\n",
    "simple_frame.generate()\n",
    "simple_frame.f.draw()\n",
    "# Calculate results\n",
    "simple_frame.calculate()"
   ]
  },
  {
   "cell_type": "markdown",
   "metadata": {},
   "source": [
    "### Creating a portal frame with truss"
   ]
  },
  {
   "cell_type": "markdown",
   "metadata": {},
   "source": [
    "### Exporting frame to Autodesk Robot"
   ]
  },
  {
   "cell_type": "markdown",
   "metadata": {},
   "source": [
    "## TODO\n",
    "Here's a list of things that still needs to be implemented\n",
    "\n",
    "* Buckling length calculation, currently using member's length as Lcr\n",
    "* 2nd order analysis, P-delta\n",
    "* Link to Tekla or AutoCAD\n",
    "* Deleting members\n",
    "* Adding more members/ loads/ supports after the frame has been generated\n",
    "\n",
    "### Known bugs\n",
    "* -"
   ]
  },
  {
   "cell_type": "code",
   "execution_count": null,
   "metadata": {},
   "outputs": [],
   "source": []
  }
 ],
 "metadata": {
  "kernelspec": {
   "display_name": "Python 3",
   "language": "python",
   "name": "python3"
  },
  "language_info": {
   "codemirror_mode": {
    "name": "ipython",
    "version": 3
   },
   "file_extension": ".py",
   "mimetype": "text/x-python",
   "name": "python",
   "nbconvert_exporter": "python",
   "pygments_lexer": "ipython3",
   "version": "3.6.4"
  }
 },
 "nbformat": 4,
 "nbformat_minor": 2
}
